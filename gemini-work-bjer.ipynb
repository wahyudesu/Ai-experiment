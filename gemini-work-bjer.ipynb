{
 "cells": [
  {
   "cell_type": "code",
   "execution_count": 6,
   "metadata": {},
   "outputs": [
    {
     "data": {
      "text/plain": [
       "'{\\n  \"question\": \"Siapakah Presiden Amerika Serikat pertama?\",\\n  \"options\": [\\n    \"Abraham Lincoln\",\\n    \"Thomas Jefferson\",\\n    \"George Washington\",\\n    \"John Adams\"\\n  ],\\n  \"correct_answer\": \"George Washington\"\\n}'"
      ]
     },
     "execution_count": 6,
     "metadata": {},
     "output_type": "execute_result"
    }
   ],
   "source": [
    "from dotenv import load_dotenv\n",
    "\n",
    "load_dotenv()  # take environment variables from .env.\n",
    "\n",
    "import os\n",
    "import pathlib\n",
    "import textwrap\n",
    "import google.generativeai as genai\n",
    "import re\n",
    "import pandas as pd\n",
    "\n",
    "from IPython.display import display\n",
    "from IPython.display import Markdown\n",
    "\n",
    "os.getenv(\"GOOGLE_API_KEY\")\n",
    "genai.configure(api_key=os.getenv(\"GOOGLE_API_KEY\"))\n",
    "\n",
    "model = genai.GenerativeModel('gemini-pro')\n",
    "\n",
    "jenis_soal = input(\"Masukkan soal apa yang ingin kamu pelajari, TOEFL/UTBK/CPNS: \")\n",
    "soal = f\"\"\"User: Berikan saya satu pertanyaan beserta 4 opsi jawaban dan satu jawaban yang benar\n",
    "tentang {jenis_soal},berikan dalam format JSON?\"\"\"\n",
    "prompt = soal + \"Gemini: []\"\n",
    "\n",
    "#basic generation\n",
    "def generate_text(prompt):\n",
    "    response = model.generate_content(prompt)\n",
    "    return response.text\n",
    "  \n",
    "json_output = generate_text(soal)\n",
    "json_output"
   ]
  },
  {
   "cell_type": "code",
   "execution_count": 7,
   "metadata": {},
   "outputs": [
    {
     "name": "stdout",
     "output_type": "stream",
     "text": [
      "Pertanyaan: Siapakah Presiden Amerika Serikat pertama?\n",
      "Opsi: ['Abraham Lincoln', 'Thomas Jefferson', 'George Washington', 'John Adams']\n",
      "Jawaban: George Washington\n"
     ]
    }
   ],
   "source": [
    "# Regular expressions\n",
    "question_regex = r'\"question\":\\s*\"([^\"]*)\"'\n",
    "options_regex = r'\"options\":\\s*\\[\\s*([\\s\\S]*?)\\]'\n",
    "answer_regex = r'\"correct_answer\":\\s*\"([^\"]*)\"'\n",
    "\n",
    "# Extracting information\n",
    "pertanyaan_match = re.search(question_regex, json_output)\n",
    "opsi_match = re.search(options_regex, json_output)\n",
    "jawaban_match = re.search(answer_regex, json_output)\n",
    "\n",
    "pertanyaan_match and opsi_match and jawaban_match\n",
    "pertanyaan = pertanyaan_match.group(1)\n",
    "# Clean the options by removing extra spaces and newline characters\n",
    "opsi = [option.strip().strip('\"') for option in opsi_match.group(1).split(',')]\n",
    "jawaban = jawaban_match.group(1)\n",
    "\n",
    "# Print extracted information\n",
    "print(\"Pertanyaan:\", pertanyaan)\n",
    "print(\"Opsi:\", opsi)\n",
    "print(\"Jawaban:\", jawaban)"
   ]
  },
  {
   "cell_type": "markdown",
   "metadata": {},
   "source": [
    "# Ini markdownnya yang salah asu"
   ]
  },
  {
   "cell_type": "code",
   "execution_count": 7,
   "metadata": {},
   "outputs": [
    {
     "name": "stdout",
     "output_type": "stream",
     "text": [
      "Berikan juga saya 4 opsi pilihan jawaban berdasarkan soal response:\n",
      "GenerateContentResponse(\n",
      "    done=True,\n",
      "    iterator=None,\n",
      "    result=glm.GenerateContentResponse({'candidates': [{'content': {'parts': [{'text': 'Jelaskan konsep dasar teori relativitas Einstein.'}], 'role': 'model'}, 'finish_reason': 1, 'index': 0, 'safety_ratings': [{'category': 9, 'probability': 1, 'blocked': False}, {'category': 8, 'probability': 1, 'blocked': False}, {'category': 7, 'probability': 1, 'blocked': False}, {'category': 10, 'probability': 1, 'blocked': False}], 'token_count': 0, 'grounding_attributions': []}], 'prompt_feedback': {'safety_ratings': [{'category': 9, 'probability': 1, 'blocked': False}, {'category': 8, 'probability': 1, 'blocked': False}, {'category': 7, 'probability': 1, 'blocked': False}, {'category': 10, 'probability': 1, 'blocked': False}], 'block_reason': 0}}),\n",
      "), outputnya hanya berupa satu list kode python yang terdiri dari 4 kata\n"
     ]
    }
   ],
   "source": [
    "jawaban = f\"Berikan juga saya 4 opsi pilihan jawaban berdasarkan soal {response}, outputnya hanya berupa satu list kode python yang terdiri dari 4 kata\"\n",
    "print(jawaban)"
   ]
  },
  {
   "cell_type": "code",
   "execution_count": 43,
   "metadata": {},
   "outputs": [
    {
     "data": {
      "text/markdown": [
       "> ['a', 'b', 'c', 'd']"
      ],
      "text/plain": [
       "<IPython.core.display.Markdown object>"
      ]
     },
     "execution_count": 43,
     "metadata": {},
     "output_type": "execute_result"
    }
   ],
   "source": [
    "jawaban = f\"Berikan juga saya 4 opsi pilihan jawaban berdasarkan soal Siapa penulis novel Pride and Prejudice? , outputnya hanya berupa satu list kode python yang terdiri dari 4 kata\"\n",
    "opsi = model.generate_content(jawaban)\n",
    "ini_opsi = to_markdown(opsi.text)\n",
    "ini_opsi"
   ]
  },
  {
   "cell_type": "code",
   "execution_count": 4,
   "metadata": {},
   "outputs": [
    {
     "name": "stdout",
     "output_type": "stream",
     "text": [
      "\n",
      "{\n",
      "  \"pertanyaan\": \"Siapa penemu telepon?\",\n",
      "  \"opsi_jawaban\": [\n",
      "    \"Thomas Edison\",\n",
      "    \"Alexander Graham Bell\",\n",
      "    \"Nikola Tesla\",\n",
      "    \"Guglielmo Marconi\"\n",
      "  ],\n",
      "  \"jawaban_benar\": \"Alexander Graham Bell\"\n",
      "}\n",
      "\n",
      "1\n"
     ]
    }
   ],
   "source": [
    "import streamlit as st\n",
    "import json\n",
    "\n",
    "with open('content/quiz_data.json', 'r', encoding='utf-8') as f:\n",
    "    quiz_data = json.load(f)\n",
    "\n",
    "def generate_question(data, question_number):\n",
    "    print(data)\n",
    "    print(question_number)\n",
    "    \n",
    "generate_question(json_output, 1)"
   ]
  },
  {
   "cell_type": "code",
   "execution_count": null,
   "metadata": {},
   "outputs": [],
   "source": []
  }
 ],
 "metadata": {
  "kernelspec": {
   "display_name": "Python 3",
   "language": "python",
   "name": "python3"
  },
  "language_info": {
   "codemirror_mode": {
    "name": "ipython",
    "version": 3
   },
   "file_extension": ".py",
   "mimetype": "text/x-python",
   "name": "python",
   "nbconvert_exporter": "python",
   "pygments_lexer": "ipython3",
   "version": "3.10.7"
  }
 },
 "nbformat": 4,
 "nbformat_minor": 2
}
